{
 "cells": [
  {
   "cell_type": "code",
   "execution_count": 1,
   "id": "a3d7043a",
   "metadata": {},
   "outputs": [
    {
     "data": {
      "text/plain": [
       "'\\nAnswer - \\nThere are 2 values of Boolean data type - True and False. We can also get the output of Boolean in 1 or 0 format while using conditions.\\n'"
      ]
     },
     "execution_count": 1,
     "metadata": {},
     "output_type": "execute_result"
    }
   ],
   "source": [
    "\"\"\"\n",
    "1.What are the two values of the Boolean data type? How do you write them?\n",
    "\"\"\"\n",
    "\"\"\"\n",
    "Answer - \n",
    "There are 2 values of Boolean data type - True and False. We can also get the output of Boolean in 1 or 0 format while using conditions.\n",
    "\"\"\""
   ]
  },
  {
   "cell_type": "code",
   "execution_count": 2,
   "id": "45c85375",
   "metadata": {},
   "outputs": [
    {
     "data": {
      "text/plain": [
       "'\\nAnswer - \\nAND - Both must be true, OR - One out of 2 should be true, and NOT - Convert true to false and false to true.\\n'"
      ]
     },
     "execution_count": 2,
     "metadata": {},
     "output_type": "execute_result"
    }
   ],
   "source": [
    "\"\"\"\n",
    "2. What are the three different types of Boolean operators?\n",
    "\"\"\"\n",
    "\"\"\"\n",
    "Answer - \n",
    "AND - Both must be true, OR - One out of 2 should be true, and NOT - Convert true to false and false to true.\n",
    "\"\"\""
   ]
  },
  {
   "cell_type": "code",
   "execution_count": 3,
   "id": "f3330ca4",
   "metadata": {},
   "outputs": [
    {
     "data": {
      "text/plain": [
       "'\\nAnswer - \\n\\nAND Operator\\n1 AND 1 = 1\\n1 AND 0 = 0\\n0 AND 1 = 0\\n0 AND 0 = 0\\n\\nOR Operator\\n1 OR 1 = 1\\n1 OR 0 = 1\\n0 OR 1 = 1\\n0 OR 0 = 0\\n\\nNOT Operator\\nNOT 1 = 0\\nNOT 0 = 1\\n\\n\\n'"
      ]
     },
     "execution_count": 3,
     "metadata": {},
     "output_type": "execute_result"
    }
   ],
   "source": [
    "\"\"\"\n",
    "3. Make a list of each Boolean operator's truth tables (i.e. every possible combination of Boolean values for the operator and what it evaluate ).\n",
    "\"\"\"\n",
    "\"\"\"\n",
    "Answer - \n",
    "\n",
    "AND Operator\n",
    "1 AND 1 = 1\n",
    "1 AND 0 = 0\n",
    "0 AND 1 = 0\n",
    "0 AND 0 = 0\n",
    "\n",
    "OR Operator\n",
    "1 OR 1 = 1\n",
    "1 OR 0 = 1\n",
    "0 OR 1 = 1\n",
    "0 OR 0 = 0\n",
    "\n",
    "NOT Operator\n",
    "NOT 1 = 0\n",
    "NOT 0 = 1\n",
    "\n",
    "\n",
    "\"\"\""
   ]
  },
  {
   "cell_type": "code",
   "execution_count": 4,
   "id": "bd025251",
   "metadata": {},
   "outputs": [
    {
     "data": {
      "text/plain": [
       "'\\n4. What are the values of the following expressions?\\n(5 > 4) and (3 == 5) Answer - False\\nnot (5 > 4) Answer - False\\n(5 > 4) or (3 == 5) Answer - True\\nnot ((5 > 4) or (3 == 5)) Answer - False\\n(True and True) and (True == False) Answer - False\\n(not False) or (not True) Answer - True\\n'"
      ]
     },
     "execution_count": 4,
     "metadata": {},
     "output_type": "execute_result"
    }
   ],
   "source": [
    "\"\"\"\n",
    "4. What are the values of the following expressions?\n",
    "(5 > 4) and (3 == 5) Answer - False\n",
    "not (5 > 4) Answer - False\n",
    "(5 > 4) or (3 == 5) Answer - True\n",
    "not ((5 > 4) or (3 == 5)) Answer - False\n",
    "(True and True) and (True == False) Answer - False\n",
    "(not False) or (not True) Answer - True\n",
    "\"\"\""
   ]
  },
  {
   "cell_type": "code",
   "execution_count": 5,
   "id": "9698aa28",
   "metadata": {},
   "outputs": [
    {
     "data": {
      "text/plain": [
       "'\\nAnswer - \\n> Greater than\\n< Less than\\n>= Greater than or equals to\\n<= Less than or equals to\\n== Equals to\\n!= Not equals to\\n'"
      ]
     },
     "execution_count": 5,
     "metadata": {},
     "output_type": "execute_result"
    }
   ],
   "source": [
    "\"\"\"\n",
    "5. What are the six comparison operators?\n",
    "\"\"\"\n",
    "\"\"\"\n",
    "Answer - \n",
    "> Greater than\n",
    "< Less than\n",
    ">= Greater than or equals to\n",
    "<= Less than or equals to\n",
    "== Equals to\n",
    "!= Not equals to\n",
    "\"\"\""
   ]
  },
  {
   "cell_type": "code",
   "execution_count": 6,
   "id": "12d4c6b8",
   "metadata": {},
   "outputs": [
    {
     "data": {
      "text/plain": [
       "'\\nAnswer - Equals to operator is useful for the comparison purpose and Assignment operator is useful for storing some value into a variable.\\n        Example - Use of Equals to for comparison\\n        if 7 == 4:\\n            print(\"Yes\")\\n        \\n        Use of assignment operator to store value in variable\\n        variable_1 = \"Piyush\"\\n        variable_2 = 928\\n'"
      ]
     },
     "execution_count": 6,
     "metadata": {},
     "output_type": "execute_result"
    }
   ],
   "source": [
    "\"\"\"\n",
    "6. How do you tell the difference between the equal to and assignment operators? Describe a condition and when you would use one.\n",
    "\"\"\"\n",
    "\"\"\"\n",
    "Answer - Equals to operator is useful for the comparison purpose and Assignment operator is useful for storing some value into a variable.\n",
    "        Example - Use of Equals to for comparison\n",
    "        if 7 == 4:\n",
    "            print(\"Yes\")\n",
    "        \n",
    "        Use of assignment operator to store value in variable\n",
    "        variable_1 = \"Piyush\"\n",
    "        variable_2 = 928\n",
    "\"\"\""
   ]
  },
  {
   "cell_type": "code",
   "execution_count": 7,
   "id": "80645789",
   "metadata": {},
   "outputs": [
    {
     "data": {
      "text/plain": [
       "\"\\nAnswer - \\nspam = 0\\nif spam == 10:        #block 1 -> start\\n    print('eggs')     #block 1 -> end\\nif spam > 5:         #block 2 -> start\\n    print('bacon')\\nelse:                \\n    print('ham')\\n    print('spam')\\n    print('spam')       #block 2 -> end\\n\""
      ]
     },
     "execution_count": 7,
     "metadata": {},
     "output_type": "execute_result"
    }
   ],
   "source": [
    "\"\"\"\n",
    "7. Identify the three blocks in this code:\n",
    "spam = 0\n",
    "if spam == 10:\n",
    "print('eggs')\n",
    "if spam > 5:\n",
    "print('bacon')\n",
    "else:\n",
    "print('ham')\n",
    "print('spam')\n",
    "print('spam')\n",
    "\"\"\"\n",
    "\"\"\"\n",
    "Answer - \n",
    "spam = 0\n",
    "if spam == 10:        #block 1 -> start\n",
    "    print('eggs')     #block 1 -> end\n",
    "if spam > 5:         #block 2 -> start\n",
    "    print('bacon')\n",
    "else:                \n",
    "    print('ham')\n",
    "    print('spam')\n",
    "    print('spam')       #block 2 -> end\n",
    "\"\"\""
   ]
  },
  {
   "cell_type": "code",
   "execution_count": 8,
   "id": "bdafd4ba",
   "metadata": {},
   "outputs": [
    {
     "name": "stdout",
     "output_type": "stream",
     "text": [
      "Enter the value of spam: 1\n",
      "Hello\n"
     ]
    }
   ],
   "source": [
    "\"\"\"\n",
    "8. Write code that prints Hello if 1 is stored in spam, prints Howdy if 2 is stored in spam, and prints Greetings! if anything else is stored in spam.\n",
    "\"\"\"\n",
    "\"\"\"\n",
    "Answer - \n",
    "\"\"\"\n",
    "spam = int(input(\"Enter the value of spam: \"))\n",
    "if spam == 1:\n",
    "    print(\"Hello\")\n",
    "elif spam == 2:\n",
    "    print(\"Howdy\")\n",
    "else:\n",
    "    print(\"Greetings!\")"
   ]
  },
  {
   "cell_type": "code",
   "execution_count": 9,
   "id": "f1ef01f8",
   "metadata": {},
   "outputs": [
    {
     "data": {
      "text/plain": [
       "'\\nAnswer - Ctrl + C\\n'"
      ]
     },
     "execution_count": 9,
     "metadata": {},
     "output_type": "execute_result"
    }
   ],
   "source": [
    "\"\"\"\n",
    "9.If your programme is stuck in an endless loop, what keys you’ll press?\n",
    "\"\"\"\n",
    "\"\"\"\n",
    "Answer - Ctrl + C\n",
    "\"\"\""
   ]
  },
  {
   "cell_type": "code",
   "execution_count": 10,
   "id": "5b8bf296",
   "metadata": {},
   "outputs": [
    {
     "data": {
      "text/plain": [
       "'\\nAnswer - Break will be useful to terminate the execution from particular block like for, if, do, switch \\n         Continue will be useful to skip the particular iteration from a loop and then execute the rest iteration of the loop.\\n'"
      ]
     },
     "execution_count": 10,
     "metadata": {},
     "output_type": "execute_result"
    }
   ],
   "source": [
    "\"\"\"\n",
    "10. How can you tell the difference between break and continue?\n",
    "\"\"\"\n",
    "\"\"\"\n",
    "Answer - Break will be useful to terminate the execution from particular block like for, if, do, switch \n",
    "         Continue will be useful to skip the particular iteration from a loop and then execute the rest iteration of the loop.\n",
    "\"\"\""
   ]
  },
  {
   "cell_type": "code",
   "execution_count": 11,
   "id": "190f9510",
   "metadata": {},
   "outputs": [
    {
     "data": {
      "text/plain": [
       "'\\nAnswer - \\n'"
      ]
     },
     "execution_count": 11,
     "metadata": {},
     "output_type": "execute_result"
    }
   ],
   "source": [
    "\"\"\"\n",
    "11. In a for loop, what is the difference between range(10), range(0, 10), and range(0, 10, 1)?\n",
    "\"\"\"\n",
    "\"\"\"\n",
    "Answer - range(10) - consider starting point as 0 and will take numbers from 0 to 9 = 10 numbers\n",
    "         range(0,10) - Here we can define the starting point and end will be endpoint - 1\n",
    "         range(0,10,2) - here we can define the starting point, ending point - num -1, Jump - It will take the number in the intervals which we have provided\n",
    "\"\"\""
   ]
  },
  {
   "cell_type": "code",
   "execution_count": 17,
   "id": "b714fe3b",
   "metadata": {},
   "outputs": [
    {
     "name": "stdout",
     "output_type": "stream",
     "text": [
      "1\n",
      "2\n",
      "3\n",
      "4\n",
      "5\n",
      "6\n",
      "7\n",
      "8\n",
      "9\n",
      "10\n",
      "1\n",
      "2\n",
      "3\n",
      "4\n",
      "5\n",
      "6\n",
      "7\n",
      "8\n",
      "9\n",
      "10\n"
     ]
    }
   ],
   "source": [
    "\"\"\"\n",
    "12. Write a short program that prints the numbers 1 to 10 using a for loop. Then write an equivalent program that prints the numbers 1 to 10 using a while loop.\n",
    "\"\"\"\n",
    "\"\"\"\n",
    "Answer - \n",
    "\"\"\"\n",
    "# prints the numbers 1 to 10 using a for loop\n",
    "for i in range(10):\n",
    "    print(i+1)\n",
    "\n",
    "# prints the numbers 1 to 10 using a while loop\n",
    "num = 1\n",
    "while num <= 10:\n",
    "    print(num)\n",
    "    num += 1"
   ]
  },
  {
   "cell_type": "code",
   "execution_count": 14,
   "id": "ab8782dc",
   "metadata": {},
   "outputs": [
    {
     "data": {
      "text/plain": [
       "'\\nAnswer - \\n'"
      ]
     },
     "execution_count": 14,
     "metadata": {},
     "output_type": "execute_result"
    }
   ],
   "source": [
    "\"\"\"\n",
    "13. If you had a function named bacon() inside a module named spam, how would you call it after importing spam?\n",
    "\"\"\"\n",
    "\"\"\"\n",
    "Answer - from spam import bacon\n",
    "            \n",
    "            OR\n",
    "            \n",
    "         import spam \n",
    "         spam.bacon()\n",
    "\"\"\""
   ]
  }
 ],
 "metadata": {
  "kernelspec": {
   "display_name": "Python 3",
   "language": "python",
   "name": "python3"
  },
  "language_info": {
   "codemirror_mode": {
    "name": "ipython",
    "version": 3
   },
   "file_extension": ".py",
   "mimetype": "text/x-python",
   "name": "python",
   "nbconvert_exporter": "python",
   "pygments_lexer": "ipython3",
   "version": "3.8.8"
  }
 },
 "nbformat": 4,
 "nbformat_minor": 5
}
