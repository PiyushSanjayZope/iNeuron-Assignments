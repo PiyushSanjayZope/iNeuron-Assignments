{
 "cells": [
  {
   "cell_type": "code",
   "execution_count": null,
   "id": "f87d41eb",
   "metadata": {},
   "outputs": [],
   "source": [
    "\"\"\"\n",
    "1. Why are functions advantageous to have in your programs?\n",
    "\"\"\"\n",
    "\"Ans - Functions are advantageous because of reusability which results into less complexity and code can be easily modified without error.\""
   ]
  },
  {
   "cell_type": "code",
   "execution_count": null,
   "id": "52d1e0e6",
   "metadata": {},
   "outputs": [],
   "source": [
    "\"\"\"\n",
    "2. When does the code in a function run: when it's specified or when it's called?\n",
    "\"\"\"\n",
    "\"Ans - It just executes the lines of code which are written in the function\""
   ]
  },
  {
   "cell_type": "code",
   "execution_count": null,
   "id": "d3bac06e",
   "metadata": {},
   "outputs": [],
   "source": [
    "\"\"\"\n",
    "3. What statement creates a function?\n",
    "\"\"\"\n",
    "\"Ans - def function_name(arguments):\""
   ]
  },
  {
   "cell_type": "code",
   "execution_count": null,
   "id": "99c1d593",
   "metadata": {},
   "outputs": [],
   "source": [
    "\"\"\"\n",
    "4. What is the difference between a function and a function call?\n",
    "\"\"\"\n",
    "\"Ans - Function is consist of lines of code and we can pass arguments in it(optional) which returns some value. Function call is used to call the actual function which will execute/ perform actual code/ login written in function\""
   ]
  },
  {
   "cell_type": "code",
   "execution_count": null,
   "id": "5dda7ef3",
   "metadata": {},
   "outputs": [],
   "source": [
    "\"\"\"\n",
    "5. How many global scopes are there in a Python program? How many local scopes?\n",
    "\"\"\"\n",
    "\"Ans - There is only one global scope in a program. 4 Local scope are there in python program\""
   ]
  },
  {
   "cell_type": "code",
   "execution_count": null,
   "id": "34bb5c4f",
   "metadata": {},
   "outputs": [],
   "source": [
    "\"\"\"\n",
    "6. What happens to variables in a local scope when the function call returns?\n",
    "\"\"\"\n",
    "\"Ans - It becomes undefined once function call completes. It returns its value. We can use that local variable outside the function after completion of function call\""
   ]
  },
  {
   "cell_type": "code",
   "execution_count": null,
   "id": "22d5b5ee",
   "metadata": {},
   "outputs": [],
   "source": [
    "\"\"\"\n",
    "7. What is the concept of a return value? Is it possible to have a return value in an expression?\n",
    "\"\"\"\n",
    "\"Ans - Retrun value will just exit the execution from the function and will execute rest of code. Yes we can have return value in an expression. \""
   ]
  },
  {
   "cell_type": "code",
   "execution_count": null,
   "id": "b34cdbae",
   "metadata": {},
   "outputs": [],
   "source": [
    "\"\"\"\n",
    "8. If a function does not have a return statement, what is the return value of a call to that function?\n",
    "\"\"\"\n",
    "\"Ans - None\""
   ]
  },
  {
   "cell_type": "code",
   "execution_count": null,
   "id": "905c2e7f",
   "metadata": {},
   "outputs": [],
   "source": [
    "\"\"\"\n",
    "9. How do you make a function variable refer to the global variable?\n",
    "\"\"\"\n",
    "\"\"\"Ans - Use of global keyword is required during declaration in function.\n",
    "ex\n",
    "global variable\n",
    "\"\"\""
   ]
  },
  {
   "cell_type": "code",
   "execution_count": null,
   "id": "b1183ca6",
   "metadata": {},
   "outputs": [],
   "source": [
    "\"\"\"\n",
    "10. What is the data type of None?\n",
    "\"\"\"\n",
    "\"Ans - NoneType\""
   ]
  },
  {
   "cell_type": "code",
   "execution_count": null,
   "id": "720a1c22",
   "metadata": {},
   "outputs": [],
   "source": [
    "\"\"\"\n",
    "11. What does the sentence import areallyourpetsnamederic do?\n",
    "\"\"\"\n",
    "\"Ans - It will import areallyourpetsnamederic module\""
   ]
  },
  {
   "cell_type": "code",
   "execution_count": null,
   "id": "28b3cf26",
   "metadata": {},
   "outputs": [],
   "source": [
    "\"\"\"\n",
    "12. If you had a bacon() feature in a spam module, what would you call it after importing spam?\n",
    "\"\"\"\n",
    "\"Ans - \n",
    "import spam as sp\n",
    "sp.bacon()\n",
    "\n",
    "or \n",
    "import spam\n",
    "spam.bacon()\n",
    "\""
   ]
  },
  {
   "cell_type": "code",
   "execution_count": null,
   "id": "1cccb9bf",
   "metadata": {},
   "outputs": [],
   "source": [
    "\"\"\"\n",
    "13. What can you do to save a programme from crashing if it encounters an error?\n",
    "\"\"\"\n",
    "\"Ans - We can use exception handling. We can make use of try and except or try and catch to handle error in python\""
   ]
  },
  {
   "cell_type": "code",
   "execution_count": null,
   "id": "94e34b98",
   "metadata": {},
   "outputs": [],
   "source": [
    "\"\"\"\n",
    "14. What is the purpose of the try clause? What is the purpose of the except clause?\n",
    "\"\"\"\n",
    "\"Ans - Try is used to check if there is any error in the code. We use except to handle the error if there is error encountred in try block.\""
   ]
  }
 ],
 "metadata": {
  "kernelspec": {
   "display_name": "Python 3",
   "language": "python",
   "name": "python3"
  },
  "language_info": {
   "codemirror_mode": {
    "name": "ipython",
    "version": 3
   },
   "file_extension": ".py",
   "mimetype": "text/x-python",
   "name": "python",
   "nbconvert_exporter": "python",
   "pygments_lexer": "ipython3",
   "version": "3.8.8"
  }
 },
 "nbformat": 4,
 "nbformat_minor": 5
}
